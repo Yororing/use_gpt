{
 "cells": [
  {
   "cell_type": "code",
   "execution_count": 2,
   "metadata": {},
   "outputs": [
    {
     "data": {
      "text/plain": [
       "('\\n\\nThere are currently eight planets in our solar system: Mercury, Venus, Earth, Mars, Jupiter, Saturn, Uranus, and Neptune. There may be more planets yet to be discovered in our solar system and beyond.',\n",
       " 'There are eight planets in our solar system: Mercury, Venus, Earth, Mars, Jupiter, Saturn, Uranus, and Neptune.')"
      ]
     },
     "execution_count": 2,
     "metadata": {},
     "output_type": "execute_result"
    }
   ],
   "source": [
    "# diff of llm and chatAi\n",
    "from langchain.llms.openai import OpenAI\n",
    "from langchain.chat_models import ChatOpenAI\n",
    "\n",
    "# text-davinchi-003 is stopped\n",
    "llm = OpenAI(model_name = \"gpt-3.5-turbo-instruct\")\n",
    "# model_name = \"gpt-3.5-turbo\"\n",
    "chat = ChatOpenAI()\n",
    "\n",
    "a = llm.predict(\"How many planets are there?\")\n",
    "b = chat.predict(\"How many planets are there?\")\n",
    "\n",
    "a,b"
   ]
  },
  {
   "cell_type": "code",
   "execution_count": 3,
   "metadata": {},
   "outputs": [
    {
     "name": "stdout",
     "output_type": "stream",
     "text": [
      "한국과 태국 사이의 거리는 약 3,200km입니다. 제 이름은 정팔입니다. 어떻게 도와드릴까요?"
     ]
    },
    {
     "data": {
      "text/plain": [
       "AIMessageChunk(content='한국과 태국 사이의 거리는 약 3,200km입니다. 제 이름은 정팔입니다. 어떻게 도와드릴까요?')"
      ]
     },
     "execution_count": 3,
     "metadata": {},
     "output_type": "execute_result"
    }
   ],
   "source": [
    "from langchain.chat_models import ChatOpenAI\n",
    "from langchain.schema import HumanMessage, AIMessage, SystemMessage\n",
    "from langchain.prompts import PromptTemplate, ChatPromptTemplate\n",
    "from langchain.callbacks import StreamingStdOutCallbackHandler\n",
    "\n",
    "template = PromptTemplate.from_template(\"What is the distance between {country_a} and {country_b}\")\n",
    "\n",
    "# chatAi options\n",
    "chat = ChatOpenAI(\n",
    "    temperature=0.1,\n",
    "    streaming= True,\n",
    "    callbacks=[StreamingStdOutCallbackHandler()]\n",
    ")\n",
    "\n",
    "# hard code message\n",
    "#messages = [\n",
    "#   SystemMessage(content= \"You are a geography expert. And you only reply in korean\"),\n",
    "#   AIMessage(content= \"안녕하세요 내 친구여\"),\n",
    "#   HumanMessage(content= \"what is the distance between Korea and Italy. Also what is your name?\")\n",
    "#]\n",
    "\n",
    "#chat.predict_messages(messages)\n",
    "\n",
    "messages = ChatPromptTemplate.from_messages(\n",
    "    [\n",
    "        (\"system\", \"You are a geography expert. And you only reply in {language}\"),\n",
    "        (\"ai\", \"안녕하세요 내 친구여 저는 {name}이라 합니다\"),\n",
    "        (\"human\", \"what is the distance between {country_a} and {country_b}. Also what is your name?\")\n",
    "    ]\n",
    ")\n",
    "\n",
    "#prompt = template.format(country_a = \"Japan\", country_b = \"America\")\n",
    "#chat.predict(prompt)\n",
    "\n",
    "prompt = messages.format_messages(\n",
    "    language = \"Korean\",\n",
    "    name = \"Jung pal\",\n",
    "    country_a = \"Korea\",\n",
    "    country_b = \"Thailand\"\n",
    ")\n",
    "\n",
    "chat.predict_messages(prompt)"
   ]
  },
  {
   "cell_type": "code",
   "execution_count": 23,
   "metadata": {},
   "outputs": [
    {
     "data": {
      "text/plain": [
       "['Mercury', 'Venus', 'Earth', 'Mars', 'Jupiter', 'Saturn', 'Uranus', 'Neptune']"
      ]
     },
     "execution_count": 23,
     "metadata": {},
     "output_type": "execute_result"
    }
   ],
   "source": [
    "from langchain.schema import BaseOutputParser\n",
    "\n",
    "class CommaOutputParser(BaseOutputParser):\n",
    "    def parse(self, text):\n",
    "        items = text.strip().split(\",\")\n",
    "        return list(map(str.strip, items))\n",
    "\n",
    "p = CommaOutputParser()\n",
    "\n",
    "#p.parse(\"Hello, how, are, you\")\n",
    "\n",
    "template = ChatPromptTemplate.from_messages([\n",
    "    (\"system\", \"You are a list generating machine. Everything you are asked will be answered with a comma separated list of max {max_items}. And do not reply with anything else.\"),\n",
    "    (\"human\", \"{question}\")\n",
    "])\n",
    "\n",
    "prompt = template.format_messages(\n",
    "    max_items = 10,\n",
    "    question = \"What are the planets?\"\n",
    ")\n",
    "\n",
    "result = chat.predict_messages(prompt)\n",
    "\n",
    "p.parse(result.content)"
   ]
  },
  {
   "cell_type": "code",
   "execution_count": 26,
   "metadata": {},
   "outputs": [
    {
     "data": {
      "text/plain": [
       "['Agumon',\n",
       " 'Gabumon',\n",
       " 'Patamon',\n",
       " 'Gatomon',\n",
       " 'Biyomon',\n",
       " 'Tentomon',\n",
       " 'Palmon',\n",
       " 'Gomamon',\n",
       " 'Veemon',\n",
       " 'Renamon']"
      ]
     },
     "execution_count": 26,
     "metadata": {},
     "output_type": "execute_result"
    }
   ],
   "source": [
    "# chain all upper operation\n",
    "chain = template | chat | CommaOutputParser()\n",
    "\n",
    "chain.invoke({\n",
    "    \"max_items\": 10,\n",
    "    \"question\": \"What are the digimon\"\n",
    "})"
   ]
  },
  {
   "cell_type": "code",
   "execution_count": 4,
   "metadata": {},
   "outputs": [
    {
     "name": "stdout",
     "output_type": "stream",
     "text": [
      "Great choice! Indian cuisine is full of bold flavors and aromatic spices. Let's start with a classic recipe for Chicken Tikka Masala. \n",
      "\n",
      "Ingredients:\n",
      "- 1 lb boneless, skinless chicken breasts, cut into bite-sized pieces\n",
      "- 1 cup plain yogurt\n",
      "- 2 tbsp lemon juice\n",
      "- 2 tbsp vegetable oil\n",
      "- 1 onion, finely chopped\n",
      "- 3 cloves garlic, minced\n",
      "- 1-inch piece of ginger, grated\n",
      "- 1 can (14 oz) crushed tomatoes\n",
      "- 1 tbsp garam masala\n",
      "- 1 tsp ground cumin\n",
      "- 1 tsp ground coriander\n",
      "- 1 tsp paprika\n",
      "- 1/2 tsp turmeric\n",
      "- 1/2 tsp cayenne pepper (adjust to taste)\n",
      "- Salt and pepper to taste\n",
      "- Fresh cilantro, chopped (for garnish)\n",
      "- Cooked rice or naan bread (to serve)\n",
      "\n",
      "Instructions:\n",
      "1. In a bowl, mix together the yogurt, lemon juice, 1 tbsp vegetable oil, half of the minced garlic, half of the grated ginger, 1 tsp garam masala, 1/2 tsp cumin, 1/2 tsp coriander, paprika, turmeric, cayenne pepper, salt, and pepper. Add the chicken pieces and coat them well. Marinate for at least 1 hour, preferably overnight.\n",
      "\n",
      "2. Preheat the oven to 400°F (200°C). Thread the marinated chicken onto skewers and place them on a baking sheet lined with foil. Bake for 20-25 minutes or until the chicken is cooked through.\n",
      "\n",
      "3. In a large skillet, heat the remaining 1 tbsp of vegetable oil over medium heat. Add the chopped onion and cook until softened, about 5 minutes. Add the remaining garlic and ginger, and cook for another minute.\n",
      "\n",
      "4. Stir in the crushed tomatoes, remaining garam masala, cumin, coriander, and a pinch of cayenne pepper. Simmer for 10-15 minutes, stirring occasionally.\n",
      "\n",
      "5. Add the cooked chicken tikka to the skillet and simmer for an additional 5-10 minutes to allow the flavors to meld together. Adjust seasoning with salt and pepper as needed.\n",
      "\n",
      "6. Serve the Chicken Tikka Masala over cooked rice or with naan bread. Garnish with fresh cilantro. Enjoy your delicious homemade Indian meal!인도 요리 중에서 대표적인 치킨 틱카 마살라 레시피를 채식 버전으로 준비해보겠습니다.\n",
      "\n",
      "대체재료:\n",
      "- 대체육 (예를 들어 대체육이나 대체닭)\n",
      "- 두유 요거트\n",
      "- 레몬즙\n",
      "- 식물성 오일\n",
      "- 양파\n",
      "- 다진 마늘\n",
      "- 생강\n",
      "- 토마토 통조림\n",
      "- 가람 마살라\n",
      "- 고춧가루\n",
      "- 생활용 소금\n",
      "- 후추\n",
      "- 신선한 코리앤더\n",
      "\n",
      "준비과정:\n",
      "1. 대체육을 사용하여 기존의 닭고기를 대체합니다. 대체육을 적당한 크기로 자르고, 두유 요거트, 레몬즙, 식물성 오일, 다진 마늘, 생강, 가람 마살라, 고춧가루, 소금, 후추를 넣어 잘 섞어주세요. 적어도 1시간 이상, 가급적 하룻밤 동안 재워주세요.\n",
      "\n",
      "2. 오븐을 200도로 예열합니다. 대체육을 꼬치에 꿴 후 베이킹 시트에 올려 20-25분간 굽거나 익을 때까지 굽니다.\n",
      "\n",
      "3. 대형 프라이팬에 식물성 오일을 데워 양파를 넣고 5분 정도 볶아 부드럽게 익힙니다. 나머지 다진 마늘과 생강을 넣고 1분 정도 더 볶아주세요.\n",
      "\n",
      "4. 토마토 통조림, 가람 마살라, 고춧가루, 소금을 넣고 가볍게 끓여 10-15분 정도 끓입니다.\n",
      "\n",
      "5. 굽은 대체육을 프라이팬에 넣고 5-10분 정도 더 끓여 각종 양념이 잘 어우러지도록 합니다. 필요에 따라 소금과 후추로 맛을 조절해주세요.\n",
      "\n",
      "6. 쌀밥이나 나안 빵과 함께 대체육 틱카 마살라를 내놓고 신선한 코리앤더로 장식하여 즐겨보세요. 맛있는 홈메이드 인도 요리를 즐기세요!"
     ]
    },
    {
     "data": {
      "text/plain": [
       "AIMessageChunk(content='인도 요리 중에서 대표적인 치킨 틱카 마살라 레시피를 채식 버전으로 준비해보겠습니다.\\n\\n대체재료:\\n- 대체육 (예를 들어 대체육이나 대체닭)\\n- 두유 요거트\\n- 레몬즙\\n- 식물성 오일\\n- 양파\\n- 다진 마늘\\n- 생강\\n- 토마토 통조림\\n- 가람 마살라\\n- 고춧가루\\n- 생활용 소금\\n- 후추\\n- 신선한 코리앤더\\n\\n준비과정:\\n1. 대체육을 사용하여 기존의 닭고기를 대체합니다. 대체육을 적당한 크기로 자르고, 두유 요거트, 레몬즙, 식물성 오일, 다진 마늘, 생강, 가람 마살라, 고춧가루, 소금, 후추를 넣어 잘 섞어주세요. 적어도 1시간 이상, 가급적 하룻밤 동안 재워주세요.\\n\\n2. 오븐을 200도로 예열합니다. 대체육을 꼬치에 꿴 후 베이킹 시트에 올려 20-25분간 굽거나 익을 때까지 굽니다.\\n\\n3. 대형 프라이팬에 식물성 오일을 데워 양파를 넣고 5분 정도 볶아 부드럽게 익힙니다. 나머지 다진 마늘과 생강을 넣고 1분 정도 더 볶아주세요.\\n\\n4. 토마토 통조림, 가람 마살라, 고춧가루, 소금을 넣고 가볍게 끓여 10-15분 정도 끓입니다.\\n\\n5. 굽은 대체육을 프라이팬에 넣고 5-10분 정도 더 끓여 각종 양념이 잘 어우러지도록 합니다. 필요에 따라 소금과 후추로 맛을 조절해주세요.\\n\\n6. 쌀밥이나 나안 빵과 함께 대체육 틱카 마살라를 내놓고 신선한 코리앤더로 장식하여 즐겨보세요. 맛있는 홈메이드 인도 요리를 즐기세요!')"
      ]
     },
     "execution_count": 4,
     "metadata": {},
     "output_type": "execute_result"
    }
   ],
   "source": [
    "chef_prompt = ChatPromptTemplate.from_messages([\n",
    "    (\"system\", \"You are a world class chef. You create easy to follow recipes for any type of cuisine with easy to find ingredients\"),\n",
    "    (\"human\", \"I want to cook {cuisine} food\")\n",
    "])\n",
    "\n",
    "chef_chain = chef_prompt | chat\n",
    "\n",
    "veg_chef_prompt = ChatPromptTemplate.from_messages([\n",
    "    (\"system\", \"You are a world class vegetarian chef specialized on making traditional recipes vegetarian. You find alternative ingredients and explain their preparation. You don't radically modify the recipe. If there is no alternative for a food then just say you don't know how to replace it. And answer in korean\"),\n",
    "    (\"human\", \"{recipe}\")\n",
    "])\n",
    "\n",
    "veg_chef_chain = veg_chef_prompt | chat\n",
    "\n",
    "final_chain = {\"recipe\": chef_chain} | veg_chef_chain\n",
    "\n",
    "final_chain.invoke({\n",
    "    \"cuisine\": \"indian\",\n",
    "})"
   ]
  }
 ],
 "metadata": {
  "kernelspec": {
   "display_name": "env",
   "language": "python",
   "name": "python3"
  },
  "language_info": {
   "codemirror_mode": {
    "name": "ipython",
    "version": 3
   },
   "file_extension": ".py",
   "mimetype": "text/x-python",
   "name": "python",
   "nbconvert_exporter": "python",
   "pygments_lexer": "ipython3",
   "version": "3.11.0"
  }
 },
 "nbformat": 4,
 "nbformat_minor": 2
}
